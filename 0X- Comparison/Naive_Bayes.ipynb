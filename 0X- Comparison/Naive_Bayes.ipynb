{
 "cells": [
  {
   "cell_type": "markdown",
   "id": "875c4217",
   "metadata": {},
   "source": [
    "# NaiveBayes "
   ]
  },
  {
   "cell_type": "markdown",
   "id": "e763076d",
   "metadata": {},
   "source": [
    "# 1. Importing libraries"
   ]
  },
  {
   "cell_type": "code",
   "execution_count": 25,
   "id": "71b5c011",
   "metadata": {},
   "outputs": [
    {
     "name": "stdout",
     "output_type": "stream",
     "text": [
      "Let's get started! 🚀\n"
     ]
    }
   ],
   "source": [
    "import numpy  as np \n",
    "import pandas as pd \n",
    "import seaborn as sns\n",
    "from sklearn.model_selection import train_test_split\n",
    "from sklearn.naive_bayes import CategoricalNB\n",
    "from sklearn.naive_bayes import MultinomialNB\n",
    "from sklearn.model_selection import GridSearchCV\n",
    "from sklearn.metrics import classification_report, precision_score, recall_score, f1_score, accuracy_score, plot_precision_recall_curve,plot_roc_curve,plot_confusion_matrix,confusion_matrix,accuracy_score,roc_curve, auc\n",
    "import matplotlib.pyplot as plt\n",
    "import emoji\n",
    "print(emoji.emojize(\"Let's get started! :rocket:\"))"
   ]
  },
  {
   "cell_type": "markdown",
   "id": "c22c1d96",
   "metadata": {},
   "source": [
    "# 2. Reading data from file "
   ]
  },
  {
   "cell_type": "code",
   "execution_count": 26,
   "id": "de3955c5",
   "metadata": {},
   "outputs": [
    {
     "data": {
      "text/html": [
       "<div>\n",
       "<style scoped>\n",
       "    .dataframe tbody tr th:only-of-type {\n",
       "        vertical-align: middle;\n",
       "    }\n",
       "\n",
       "    .dataframe tbody tr th {\n",
       "        vertical-align: top;\n",
       "    }\n",
       "\n",
       "    .dataframe thead th {\n",
       "        text-align: right;\n",
       "    }\n",
       "</style>\n",
       "<table border=\"1\" class=\"dataframe\">\n",
       "  <thead>\n",
       "    <tr style=\"text-align: right;\">\n",
       "      <th></th>\n",
       "      <th>Unnamed: 0</th>\n",
       "      <th>location</th>\n",
       "      <th>country</th>\n",
       "      <th>gender</th>\n",
       "      <th>age</th>\n",
       "      <th>vis_wuhan</th>\n",
       "      <th>from_wuhan</th>\n",
       "      <th>symptom1</th>\n",
       "      <th>symptom2</th>\n",
       "      <th>symptom3</th>\n",
       "      <th>symptom4</th>\n",
       "      <th>symptom5</th>\n",
       "      <th>symptom6</th>\n",
       "      <th>diff_sym_hos</th>\n",
       "      <th>result</th>\n",
       "    </tr>\n",
       "  </thead>\n",
       "  <tbody>\n",
       "    <tr>\n",
       "      <th>0</th>\n",
       "      <td>0</td>\n",
       "      <td>104</td>\n",
       "      <td>8</td>\n",
       "      <td>1</td>\n",
       "      <td>66.0</td>\n",
       "      <td>1</td>\n",
       "      <td>0</td>\n",
       "      <td>14</td>\n",
       "      <td>31</td>\n",
       "      <td>19</td>\n",
       "      <td>12</td>\n",
       "      <td>3</td>\n",
       "      <td>1</td>\n",
       "      <td>8</td>\n",
       "      <td>1</td>\n",
       "    </tr>\n",
       "    <tr>\n",
       "      <th>1</th>\n",
       "      <td>1</td>\n",
       "      <td>101</td>\n",
       "      <td>8</td>\n",
       "      <td>0</td>\n",
       "      <td>56.0</td>\n",
       "      <td>0</td>\n",
       "      <td>1</td>\n",
       "      <td>14</td>\n",
       "      <td>31</td>\n",
       "      <td>19</td>\n",
       "      <td>12</td>\n",
       "      <td>3</td>\n",
       "      <td>1</td>\n",
       "      <td>0</td>\n",
       "      <td>0</td>\n",
       "    </tr>\n",
       "    <tr>\n",
       "      <th>2</th>\n",
       "      <td>2</td>\n",
       "      <td>137</td>\n",
       "      <td>8</td>\n",
       "      <td>1</td>\n",
       "      <td>46.0</td>\n",
       "      <td>0</td>\n",
       "      <td>1</td>\n",
       "      <td>14</td>\n",
       "      <td>31</td>\n",
       "      <td>19</td>\n",
       "      <td>12</td>\n",
       "      <td>3</td>\n",
       "      <td>1</td>\n",
       "      <td>13</td>\n",
       "      <td>0</td>\n",
       "    </tr>\n",
       "    <tr>\n",
       "      <th>3</th>\n",
       "      <td>3</td>\n",
       "      <td>116</td>\n",
       "      <td>8</td>\n",
       "      <td>0</td>\n",
       "      <td>60.0</td>\n",
       "      <td>1</td>\n",
       "      <td>0</td>\n",
       "      <td>14</td>\n",
       "      <td>31</td>\n",
       "      <td>19</td>\n",
       "      <td>12</td>\n",
       "      <td>3</td>\n",
       "      <td>1</td>\n",
       "      <td>0</td>\n",
       "      <td>0</td>\n",
       "    </tr>\n",
       "    <tr>\n",
       "      <th>4</th>\n",
       "      <td>4</td>\n",
       "      <td>116</td>\n",
       "      <td>8</td>\n",
       "      <td>1</td>\n",
       "      <td>58.0</td>\n",
       "      <td>0</td>\n",
       "      <td>0</td>\n",
       "      <td>14</td>\n",
       "      <td>31</td>\n",
       "      <td>19</td>\n",
       "      <td>12</td>\n",
       "      <td>3</td>\n",
       "      <td>1</td>\n",
       "      <td>0</td>\n",
       "      <td>0</td>\n",
       "    </tr>\n",
       "    <tr>\n",
       "      <th>...</th>\n",
       "      <td>...</td>\n",
       "      <td>...</td>\n",
       "      <td>...</td>\n",
       "      <td>...</td>\n",
       "      <td>...</td>\n",
       "      <td>...</td>\n",
       "      <td>...</td>\n",
       "      <td>...</td>\n",
       "      <td>...</td>\n",
       "      <td>...</td>\n",
       "      <td>...</td>\n",
       "      <td>...</td>\n",
       "      <td>...</td>\n",
       "      <td>...</td>\n",
       "      <td>...</td>\n",
       "    </tr>\n",
       "    <tr>\n",
       "      <th>858</th>\n",
       "      <td>858</td>\n",
       "      <td>48</td>\n",
       "      <td>3</td>\n",
       "      <td>2</td>\n",
       "      <td>24.0</td>\n",
       "      <td>0</td>\n",
       "      <td>0</td>\n",
       "      <td>14</td>\n",
       "      <td>31</td>\n",
       "      <td>19</td>\n",
       "      <td>12</td>\n",
       "      <td>3</td>\n",
       "      <td>1</td>\n",
       "      <td>0</td>\n",
       "      <td>1</td>\n",
       "    </tr>\n",
       "    <tr>\n",
       "      <th>859</th>\n",
       "      <td>859</td>\n",
       "      <td>0</td>\n",
       "      <td>0</td>\n",
       "      <td>2</td>\n",
       "      <td>35.0</td>\n",
       "      <td>0</td>\n",
       "      <td>0</td>\n",
       "      <td>14</td>\n",
       "      <td>31</td>\n",
       "      <td>19</td>\n",
       "      <td>12</td>\n",
       "      <td>3</td>\n",
       "      <td>1</td>\n",
       "      <td>0</td>\n",
       "      <td>0</td>\n",
       "    </tr>\n",
       "    <tr>\n",
       "      <th>860</th>\n",
       "      <td>860</td>\n",
       "      <td>3</td>\n",
       "      <td>1</td>\n",
       "      <td>1</td>\n",
       "      <td>49.4</td>\n",
       "      <td>0</td>\n",
       "      <td>0</td>\n",
       "      <td>14</td>\n",
       "      <td>31</td>\n",
       "      <td>19</td>\n",
       "      <td>12</td>\n",
       "      <td>3</td>\n",
       "      <td>1</td>\n",
       "      <td>0</td>\n",
       "      <td>0</td>\n",
       "    </tr>\n",
       "    <tr>\n",
       "      <th>861</th>\n",
       "      <td>861</td>\n",
       "      <td>24</td>\n",
       "      <td>9</td>\n",
       "      <td>1</td>\n",
       "      <td>49.4</td>\n",
       "      <td>0</td>\n",
       "      <td>0</td>\n",
       "      <td>14</td>\n",
       "      <td>31</td>\n",
       "      <td>19</td>\n",
       "      <td>12</td>\n",
       "      <td>3</td>\n",
       "      <td>1</td>\n",
       "      <td>0</td>\n",
       "      <td>0</td>\n",
       "    </tr>\n",
       "    <tr>\n",
       "      <th>862</th>\n",
       "      <td>862</td>\n",
       "      <td>15</td>\n",
       "      <td>27</td>\n",
       "      <td>1</td>\n",
       "      <td>70.0</td>\n",
       "      <td>0</td>\n",
       "      <td>0</td>\n",
       "      <td>14</td>\n",
       "      <td>31</td>\n",
       "      <td>19</td>\n",
       "      <td>12</td>\n",
       "      <td>3</td>\n",
       "      <td>1</td>\n",
       "      <td>0</td>\n",
       "      <td>0</td>\n",
       "    </tr>\n",
       "  </tbody>\n",
       "</table>\n",
       "<p>863 rows × 15 columns</p>\n",
       "</div>"
      ],
      "text/plain": [
       "     Unnamed: 0  location  country  gender   age  vis_wuhan  from_wuhan  \\\n",
       "0             0       104        8       1  66.0          1           0   \n",
       "1             1       101        8       0  56.0          0           1   \n",
       "2             2       137        8       1  46.0          0           1   \n",
       "3             3       116        8       0  60.0          1           0   \n",
       "4             4       116        8       1  58.0          0           0   \n",
       "..          ...       ...      ...     ...   ...        ...         ...   \n",
       "858         858        48        3       2  24.0          0           0   \n",
       "859         859         0        0       2  35.0          0           0   \n",
       "860         860         3        1       1  49.4          0           0   \n",
       "861         861        24        9       1  49.4          0           0   \n",
       "862         862        15       27       1  70.0          0           0   \n",
       "\n",
       "     symptom1  symptom2  symptom3  symptom4  symptom5  symptom6  diff_sym_hos  \\\n",
       "0          14        31        19        12         3         1             8   \n",
       "1          14        31        19        12         3         1             0   \n",
       "2          14        31        19        12         3         1            13   \n",
       "3          14        31        19        12         3         1             0   \n",
       "4          14        31        19        12         3         1             0   \n",
       "..        ...       ...       ...       ...       ...       ...           ...   \n",
       "858        14        31        19        12         3         1             0   \n",
       "859        14        31        19        12         3         1             0   \n",
       "860        14        31        19        12         3         1             0   \n",
       "861        14        31        19        12         3         1             0   \n",
       "862        14        31        19        12         3         1             0   \n",
       "\n",
       "     result  \n",
       "0         1  \n",
       "1         0  \n",
       "2         0  \n",
       "3         0  \n",
       "4         0  \n",
       "..      ...  \n",
       "858       1  \n",
       "859       0  \n",
       "860       0  \n",
       "861       0  \n",
       "862       0  \n",
       "\n",
       "[863 rows x 15 columns]"
      ]
     },
     "execution_count": 26,
     "metadata": {},
     "output_type": "execute_result"
    }
   ],
   "source": [
    "df = pd.read_csv (r'data.csv')\n",
    "df "
   ]
  },
  {
   "cell_type": "markdown",
   "id": "0ed1cce7",
   "metadata": {},
   "source": [
    "# 3. Pre-processing for data"
   ]
  },
  {
   "cell_type": "markdown",
   "id": "f3482ca3",
   "metadata": {},
   "source": [
    "## 3.1 Box-plot of age variable"
   ]
  },
  {
   "cell_type": "code",
   "execution_count": 27,
   "id": "36080b9c",
   "metadata": {},
   "outputs": [
    {
     "data": {
      "text/plain": [
       "<function matplotlib.pyplot.show(close=None, block=None)>"
      ]
     },
     "execution_count": 27,
     "metadata": {},
     "output_type": "execute_result"
    },
    {
     "data": {
      "image/png": "[encoded data removed]",
      "text/plain": [
       "<Figure size 432x288 with 1 Axes>"
      ]
     },
     "metadata": {
      "needs_background": "light"
     },
     "output_type": "display_data"
    }
   ],
   "source": [
    "# Draw box-plot for the age variable \n",
    "plt.boxplot(df['age'])\n",
    "plt.show\n",
    "# we have found that above 78 and below 79 are outliers "
   ]
  },
  {
   "cell_type": "markdown",
   "id": "aaf8f11c",
   "metadata": {},
   "source": [
    "## 3.2 Calculate upper and lower bounds"
   ]
  },
  {
   "cell_type": "code",
   "execution_count": 28,
   "id": "116ff6f7",
   "metadata": {
    "scrolled": true
   },
   "outputs": [
    {
     "name": "stdout",
     "output_type": "stream",
     "text": [
      "82.5\n",
      "14.5\n"
     ]
    }
   ],
   "source": [
    "# **Get outliers and remove it**\n",
    "\n",
    "# finding the 1st quartile\n",
    "q1 = np.quantile(np.array(df['age']), 0.25)\n",
    " \n",
    "# finding the 3rd quartile\n",
    "q3 = np.quantile(np.array(df['age']), 0.75)\n",
    "med = np.median(np.array(df['age']))\n",
    " \n",
    "# finding the iqr region\n",
    "iqr = q3-q1\n",
    "\n",
    "# finding upper and lower whiskers\n",
    "upper_bound = q3+(1.5*iqr)\n",
    "lower_bound = q1-(1.5*iqr)\n",
    "print(upper_bound)\n",
    "print(lower_bound)"
   ]
  },
  {
   "cell_type": "markdown",
   "id": "2165cb38",
   "metadata": {},
   "source": [
    "## 3.3 Remove rows with outlier values "
   ]
  },
  {
   "cell_type": "code",
   "execution_count": 29,
   "id": "32d8d250",
   "metadata": {},
   "outputs": [
    {
     "name": "stdout",
     "output_type": "stream",
     "text": [
      "863\n",
      "Total number of age outliers removed: 27\n",
      "836\n"
     ]
    },
    {
     "data": {
      "image/png": "[encoded data removed]",
      "text/plain": [
       "<Figure size 432x288 with 1 Axes>"
      ]
     },
     "metadata": {
      "needs_background": "light"
     },
     "output_type": "display_data"
    }
   ],
   "source": [
    "count = 0\n",
    "print(len(df['age']))\n",
    "for i in range(len(df['age'])):\n",
    "  if df['age'][i] >= upper_bound or df['age'][i] <= lower_bound: # check boundary values 82.5 and 14.5\n",
    "    count = count + 1\n",
    "    df = df.drop(axis = 0, labels = i) # Remove rows includes outlier \n",
    "print(f\"Total number of age outliers removed: {count}\")\n",
    "\n",
    "print(len(df['age']))\n",
    "# Graph of the modified box-plot for age \n",
    "plt.boxplot(df['age'])\n",
    "plt.show\n",
    "df = df.reset_index(drop=True) # To reset the index after removal of rows \n"
   ]
  },
  {
   "cell_type": "markdown",
   "id": "d3cb6334",
   "metadata": {},
   "source": [
    "## 3.4 Removing symptom6  and Unnamed: 0 variables"
   ]
  },
  {
   "cell_type": "code",
   "execution_count": 30,
   "id": "cfb9f039",
   "metadata": {},
   "outputs": [
    {
     "name": "stdout",
     "output_type": "stream",
     "text": [
      "Number of rows: 836\n",
      "Number of cases with first value: 835\n",
      "Number of cases with Second value: 1\n",
      "Useless variable 💥\n"
     ]
    }
   ],
   "source": [
    "# symptom6 attribute is has almost one identical value \n",
    "\n",
    "print(f\"Number of rows: {len(df['symptom6'])}\")\n",
    "counter_1 = 0\n",
    "counter_2 = 0\n",
    "for i in range(len(df['symptom6'])):\n",
    "  if df['symptom6'][i] == 1:\n",
    "    counter_1 = counter_1 + 1\n",
    "  else:\n",
    "    counter_2 = counter_2 + 1\n",
    "print(f\"Number of cases with first value: {counter_1}\")\n",
    "print(f\"Number of cases with Second value: {counter_2}\")\n",
    "print(emoji.emojize('Useless variable :collision:'))\n",
    "df.drop(axis = 1, labels = 'symptom6', inplace = True)\n",
    "df.drop(axis = 1, labels = 'Unnamed: 0', inplace = True)"
   ]
  },
  {
   "cell_type": "markdown",
   "id": "f310aa12",
   "metadata": {},
   "source": [
    "## 3.5 Removing negative values from our data frame"
   ]
  },
  {
   "cell_type": "code",
   "execution_count": 31,
   "id": "98a9df47",
   "metadata": {},
   "outputs": [
    {
     "name": "stdout",
     "output_type": "stream",
     "text": [
      "836\n",
      "834\n"
     ]
    },
    {
     "data": {
      "text/html": [
       "<div>\n",
       "<style scoped>\n",
       "    .dataframe tbody tr th:only-of-type {\n",
       "        vertical-align: middle;\n",
       "    }\n",
       "\n",
       "    .dataframe tbody tr th {\n",
       "        vertical-align: top;\n",
       "    }\n",
       "\n",
       "    .dataframe thead th {\n",
       "        text-align: right;\n",
       "    }\n",
       "</style>\n",
       "<table border=\"1\" class=\"dataframe\">\n",
       "  <thead>\n",
       "    <tr style=\"text-align: right;\">\n",
       "      <th></th>\n",
       "      <th>location</th>\n",
       "      <th>country</th>\n",
       "      <th>gender</th>\n",
       "      <th>age</th>\n",
       "      <th>vis_wuhan</th>\n",
       "      <th>from_wuhan</th>\n",
       "      <th>symptom1</th>\n",
       "      <th>symptom2</th>\n",
       "      <th>symptom3</th>\n",
       "      <th>symptom4</th>\n",
       "      <th>symptom5</th>\n",
       "      <th>diff_sym_hos</th>\n",
       "      <th>result</th>\n",
       "    </tr>\n",
       "  </thead>\n",
       "  <tbody>\n",
       "    <tr>\n",
       "      <th>0</th>\n",
       "      <td>104</td>\n",
       "      <td>8</td>\n",
       "      <td>1</td>\n",
       "      <td>66.0</td>\n",
       "      <td>1</td>\n",
       "      <td>0</td>\n",
       "      <td>14</td>\n",
       "      <td>31</td>\n",
       "      <td>19</td>\n",
       "      <td>12</td>\n",
       "      <td>3</td>\n",
       "      <td>8</td>\n",
       "      <td>1</td>\n",
       "    </tr>\n",
       "    <tr>\n",
       "      <th>1</th>\n",
       "      <td>101</td>\n",
       "      <td>8</td>\n",
       "      <td>0</td>\n",
       "      <td>56.0</td>\n",
       "      <td>0</td>\n",
       "      <td>1</td>\n",
       "      <td>14</td>\n",
       "      <td>31</td>\n",
       "      <td>19</td>\n",
       "      <td>12</td>\n",
       "      <td>3</td>\n",
       "      <td>0</td>\n",
       "      <td>0</td>\n",
       "    </tr>\n",
       "    <tr>\n",
       "      <th>2</th>\n",
       "      <td>137</td>\n",
       "      <td>8</td>\n",
       "      <td>1</td>\n",
       "      <td>46.0</td>\n",
       "      <td>0</td>\n",
       "      <td>1</td>\n",
       "      <td>14</td>\n",
       "      <td>31</td>\n",
       "      <td>19</td>\n",
       "      <td>12</td>\n",
       "      <td>3</td>\n",
       "      <td>13</td>\n",
       "      <td>0</td>\n",
       "    </tr>\n",
       "    <tr>\n",
       "      <th>3</th>\n",
       "      <td>116</td>\n",
       "      <td>8</td>\n",
       "      <td>0</td>\n",
       "      <td>60.0</td>\n",
       "      <td>1</td>\n",
       "      <td>0</td>\n",
       "      <td>14</td>\n",
       "      <td>31</td>\n",
       "      <td>19</td>\n",
       "      <td>12</td>\n",
       "      <td>3</td>\n",
       "      <td>0</td>\n",
       "      <td>0</td>\n",
       "    </tr>\n",
       "    <tr>\n",
       "      <th>4</th>\n",
       "      <td>116</td>\n",
       "      <td>8</td>\n",
       "      <td>1</td>\n",
       "      <td>58.0</td>\n",
       "      <td>0</td>\n",
       "      <td>0</td>\n",
       "      <td>14</td>\n",
       "      <td>31</td>\n",
       "      <td>19</td>\n",
       "      <td>12</td>\n",
       "      <td>3</td>\n",
       "      <td>0</td>\n",
       "      <td>0</td>\n",
       "    </tr>\n",
       "    <tr>\n",
       "      <th>...</th>\n",
       "      <td>...</td>\n",
       "      <td>...</td>\n",
       "      <td>...</td>\n",
       "      <td>...</td>\n",
       "      <td>...</td>\n",
       "      <td>...</td>\n",
       "      <td>...</td>\n",
       "      <td>...</td>\n",
       "      <td>...</td>\n",
       "      <td>...</td>\n",
       "      <td>...</td>\n",
       "      <td>...</td>\n",
       "      <td>...</td>\n",
       "    </tr>\n",
       "    <tr>\n",
       "      <th>829</th>\n",
       "      <td>48</td>\n",
       "      <td>3</td>\n",
       "      <td>2</td>\n",
       "      <td>24.0</td>\n",
       "      <td>0</td>\n",
       "      <td>0</td>\n",
       "      <td>14</td>\n",
       "      <td>31</td>\n",
       "      <td>19</td>\n",
       "      <td>12</td>\n",
       "      <td>3</td>\n",
       "      <td>0</td>\n",
       "      <td>1</td>\n",
       "    </tr>\n",
       "    <tr>\n",
       "      <th>830</th>\n",
       "      <td>0</td>\n",
       "      <td>0</td>\n",
       "      <td>2</td>\n",
       "      <td>35.0</td>\n",
       "      <td>0</td>\n",
       "      <td>0</td>\n",
       "      <td>14</td>\n",
       "      <td>31</td>\n",
       "      <td>19</td>\n",
       "      <td>12</td>\n",
       "      <td>3</td>\n",
       "      <td>0</td>\n",
       "      <td>0</td>\n",
       "    </tr>\n",
       "    <tr>\n",
       "      <th>831</th>\n",
       "      <td>3</td>\n",
       "      <td>1</td>\n",
       "      <td>1</td>\n",
       "      <td>49.4</td>\n",
       "      <td>0</td>\n",
       "      <td>0</td>\n",
       "      <td>14</td>\n",
       "      <td>31</td>\n",
       "      <td>19</td>\n",
       "      <td>12</td>\n",
       "      <td>3</td>\n",
       "      <td>0</td>\n",
       "      <td>0</td>\n",
       "    </tr>\n",
       "    <tr>\n",
       "      <th>832</th>\n",
       "      <td>24</td>\n",
       "      <td>9</td>\n",
       "      <td>1</td>\n",
       "      <td>49.4</td>\n",
       "      <td>0</td>\n",
       "      <td>0</td>\n",
       "      <td>14</td>\n",
       "      <td>31</td>\n",
       "      <td>19</td>\n",
       "      <td>12</td>\n",
       "      <td>3</td>\n",
       "      <td>0</td>\n",
       "      <td>0</td>\n",
       "    </tr>\n",
       "    <tr>\n",
       "      <th>833</th>\n",
       "      <td>15</td>\n",
       "      <td>27</td>\n",
       "      <td>1</td>\n",
       "      <td>70.0</td>\n",
       "      <td>0</td>\n",
       "      <td>0</td>\n",
       "      <td>14</td>\n",
       "      <td>31</td>\n",
       "      <td>19</td>\n",
       "      <td>12</td>\n",
       "      <td>3</td>\n",
       "      <td>0</td>\n",
       "      <td>0</td>\n",
       "    </tr>\n",
       "  </tbody>\n",
       "</table>\n",
       "<p>834 rows × 13 columns</p>\n",
       "</div>"
      ],
      "text/plain": [
       "     location  country  gender   age  vis_wuhan  from_wuhan  symptom1  \\\n",
       "0         104        8       1  66.0          1           0        14   \n",
       "1         101        8       0  56.0          0           1        14   \n",
       "2         137        8       1  46.0          0           1        14   \n",
       "3         116        8       0  60.0          1           0        14   \n",
       "4         116        8       1  58.0          0           0        14   \n",
       "..        ...      ...     ...   ...        ...         ...       ...   \n",
       "829        48        3       2  24.0          0           0        14   \n",
       "830         0        0       2  35.0          0           0        14   \n",
       "831         3        1       1  49.4          0           0        14   \n",
       "832        24        9       1  49.4          0           0        14   \n",
       "833        15       27       1  70.0          0           0        14   \n",
       "\n",
       "     symptom2  symptom3  symptom4  symptom5  diff_sym_hos  result  \n",
       "0          31        19        12         3             8       1  \n",
       "1          31        19        12         3             0       0  \n",
       "2          31        19        12         3            13       0  \n",
       "3          31        19        12         3             0       0  \n",
       "4          31        19        12         3             0       0  \n",
       "..        ...       ...       ...       ...           ...     ...  \n",
       "829        31        19        12         3             0       1  \n",
       "830        31        19        12         3             0       0  \n",
       "831        31        19        12         3             0       0  \n",
       "832        31        19        12         3             0       0  \n",
       "833        31        19        12         3             0       0  \n",
       "\n",
       "[834 rows x 13 columns]"
      ]
     },
     "execution_count": 31,
     "metadata": {},
     "output_type": "execute_result"
    }
   ],
   "source": [
    "# Removing rows with negative values\n",
    "print(len(df['age']))\n",
    "for i in range(len(df['age'])):\n",
    "    if (df['diff_sym_hos'][i] < 0):\n",
    "        df = df.drop(axis = 0, labels = i) # Remove rows includes outlier \n",
    "df = df.reset_index(drop=True) # To reset the index after removal of rows \n",
    "\n",
    "print(len(df['age']))\n",
    "\n",
    "df"
   ]
  },
  {
   "cell_type": "markdown",
   "id": "0a3ddb23",
   "metadata": {},
   "source": [
    "## 3.6 Converting age into categorical variable "
   ]
  },
  {
   "cell_type": "code",
   "execution_count": 32,
   "id": "dd9f02e1",
   "metadata": {},
   "outputs": [],
   "source": [
    "df.age = pd.cut(df.age,bins=[0,2,17,65,99],labels=[0, 1, 2, 3])"
   ]
  },
  {
   "cell_type": "markdown",
   "id": "df87da76",
   "metadata": {},
   "source": [
    "## 3.7 Converting diff_sym_hos into categorical variable"
   ]
  },
  {
   "cell_type": "code",
   "execution_count": 33,
   "id": "f043bd83",
   "metadata": {},
   "outputs": [],
   "source": [
    "df.diff_sym_hos = pd.cut(np.array(df.diff_sym_hos),bins=[0,2,5,9,20],labels=[0, 1, 2, 3],include_lowest=True)"
   ]
  },
  {
   "cell_type": "markdown",
   "id": "2e5f61eb",
   "metadata": {},
   "source": [
    "## 3.8 Correlation between variables "
   ]
  },
  {
   "cell_type": "code",
   "execution_count": 34,
   "id": "89c70321",
   "metadata": {},
   "outputs": [
    {
     "data": {
      "text/plain": [
       "<AxesSubplot:>"
      ]
     },
     "execution_count": 34,
     "metadata": {},
     "output_type": "execute_result"
    },
    {
     "data": {
      "image/png": "[encoded data removed]",
      "text/plain": [
       "<Figure size 432x288 with 2 Axes>"
      ]
     },
     "metadata": {
      "needs_background": "light"
     },
     "output_type": "display_data"
    }
   ],
   "source": [
    "corr = df.iloc[:,:-1].corr(method=\"pearson\")\n",
    "cmap = sns.diverging_palette(250, 354, 80, 60, center='dark', as_cmap=True)\n",
    "sns.heatmap(corr, vmax=1, vmin=-.5, cmap=cmap, square=True, linewidths= 0.2)\n",
    "# Sadly, there is no strong correlation between any two variables! \n",
    "# Happily, we are using naive BAYES :)"
   ]
  },
  {
   "cell_type": "markdown",
   "id": "016d4104",
   "metadata": {},
   "source": [
    "# 4. Splitting of data into parts"
   ]
  },
  {
   "cell_type": "code",
   "execution_count": 35,
   "id": "ae98517e",
   "metadata": {},
   "outputs": [],
   "source": [
    "# Labels for our pandas data frame\n",
    "x_labels = ['location','country','gender','age','vis_wuhan','from_wuhan','symptom1','symptom2','symptom3','symptom4','symptom5','diff_sym_hos']\n",
    "y_label = ['result']\n",
    "\n",
    "# Split into training and testing\n",
    "X_train, X_test, y_train, y_test = train_test_split(df[x_labels],df[y_label], test_size = 0.2, random_state = 100)\n",
    "\n",
    "# Split the training into training and validation \n",
    "X_train, X_validate, y_train, y_validate = train_test_split(X_train, y_train, test_size = 0.1, random_state = 100) \n",
    "\n",
    "X_train = X_train.reset_index(drop=True) \n",
    "X_validate = X_validate.reset_index(drop=True) \n",
    "X_test = X_test.reset_index(drop=True) \n",
    "y_train = y_train.reset_index(drop=True) \n",
    "y_validate = y_validate.reset_index(drop=True) \n",
    "y_test = y_test.reset_index(drop=True) "
   ]
  },
  {
   "cell_type": "markdown",
   "id": "b4482d5f",
   "metadata": {},
   "source": [
    "# 5. Naive Bayes Training model "
   ]
  },
  {
   "cell_type": "markdown",
   "id": "45dd664b",
   "metadata": {},
   "source": [
    "## 5.1 Categorical Naive bayes"
   ]
  },
  {
   "cell_type": "code",
   "execution_count": 36,
   "id": "b7711129",
   "metadata": {},
   "outputs": [
    {
     "name": "stdout",
     "output_type": "stream",
     "text": [
      "              precision    recall  f1-score   support\n",
      "\n",
      "           0       0.89      0.98      0.94        59\n",
      "           1       0.50      0.12      0.20         8\n",
      "\n",
      "    accuracy                           0.88        67\n",
      "   macro avg       0.70      0.55      0.57        67\n",
      "weighted avg       0.85      0.88      0.85        67\n",
      "\n"
     ]
    }
   ],
   "source": [
    "# Trial 1\n",
    "clf = CategoricalNB(alpha = 4)\n",
    "clf.fit(X_train, y_train.values.ravel()) #NEED MORE INFO \n",
    "y_pred_v = clf.predict(X_validate)\n",
    "print(classification_report(y_validate,y_pred_v))"
   ]
  },
  {
   "cell_type": "code",
   "execution_count": 37,
   "id": "3cd123e8",
   "metadata": {},
   "outputs": [
    {
     "name": "stdout",
     "output_type": "stream",
     "text": [
      "              precision    recall  f1-score   support\n",
      "\n",
      "           0       0.90      0.93      0.92        59\n",
      "           1       0.33      0.25      0.29         8\n",
      "\n",
      "    accuracy                           0.85        67\n",
      "   macro avg       0.62      0.59      0.60        67\n",
      "weighted avg       0.83      0.85      0.84        67\n",
      "\n"
     ]
    }
   ],
   "source": [
    "# Trial 2\n",
    "clf = CategoricalNB(alpha = 2)\n",
    "clf.fit(X_train, y_train.values.ravel()) #NEED MORE INFO \n",
    "y_pred_v = clf.predict(X_validate)\n",
    "print(classification_report(y_validate,y_pred_v))"
   ]
  },
  {
   "cell_type": "code",
   "execution_count": 38,
   "id": "92d6fa88",
   "metadata": {},
   "outputs": [
    {
     "name": "stdout",
     "output_type": "stream",
     "text": [
      "              precision    recall  f1-score   support\n",
      "\n",
      "           0       0.96      0.93      0.95        59\n",
      "           1       0.60      0.75      0.67         8\n",
      "\n",
      "    accuracy                           0.91        67\n",
      "   macro avg       0.78      0.84      0.81        67\n",
      "weighted avg       0.92      0.91      0.91        67\n",
      "\n"
     ]
    }
   ],
   "source": [
    "# Trial 3\n",
    "clf = CategoricalNB(alpha = 0.2)\n",
    "clf.fit(X_train, y_train.values.ravel()) #NEED MORE INFO \n",
    "y_pred_v = clf.predict(X_validate)\n",
    "print(classification_report(y_validate,y_pred_v))"
   ]
  },
  {
   "cell_type": "code",
   "execution_count": 39,
   "id": "6db0ba50",
   "metadata": {},
   "outputs": [
    {
     "name": "stdout",
     "output_type": "stream",
     "text": [
      "              precision    recall  f1-score   support\n",
      "\n",
      "           0       0.97      0.95      0.96        59\n",
      "           1       0.67      0.75      0.71         8\n",
      "\n",
      "    accuracy                           0.93        67\n",
      "   macro avg       0.82      0.85      0.83        67\n",
      "weighted avg       0.93      0.93      0.93        67\n",
      "\n"
     ]
    }
   ],
   "source": [
    "# Trial 4\n",
    "clf = CategoricalNB(alpha = 0.01)\n",
    "clf.fit(X_train, y_train.values.ravel()) #NEED MORE INFO \n",
    "y_pred_v = clf.predict(X_validate)\n",
    "print(classification_report(y_validate,y_pred_v))"
   ]
  },
  {
   "cell_type": "code",
   "execution_count": 40,
   "id": "73b8fe2f",
   "metadata": {},
   "outputs": [],
   "source": [
    "# Testing \n",
    "clf = CategoricalNB(alpha = 0.01)\n",
    "clf.fit(X_train, y_train.values.ravel()) #NEED MORE INFO \n",
    "y_pred = clf.predict(X_test)"
   ]
  },
  {
   "cell_type": "markdown",
   "id": "f4c3d57e",
   "metadata": {},
   "source": [
    "## 5.2 Multinomial Naive bayes"
   ]
  },
  {
   "cell_type": "code",
   "execution_count": 41,
   "id": "ca0329d9",
   "metadata": {},
   "outputs": [],
   "source": [
    "clf_m = MultinomialNB()\n",
    "clf_m.fit(X_train, y_train.values.ravel()) #NEED MORE INFO \n",
    "y_pred_m = clf.predict(X_test)"
   ]
  },
  {
   "cell_type": "markdown",
   "id": "5f87159b",
   "metadata": {},
   "source": [
    "## 5.3 Categorical Naive bayes + Grid searhc CV with hyper-paramters tuning"
   ]
  },
  {
   "cell_type": "code",
   "execution_count": 42,
   "id": "7f9d65cd",
   "metadata": {},
   "outputs": [
    {
     "name": "stdout",
     "output_type": "stream",
     "text": [
      "Fitting 5 folds for each of 11 candidates, totalling 55 fits\n",
      "{'alpha': 0.01}\n"
     ]
    },
    {
     "name": "stderr",
     "output_type": "stream",
     "text": [
      "C:\\Users\\Ahmed\\anaconda3\\lib\\site-packages\\sklearn\\model_selection\\_search.py:918: UserWarning: One or more of the test scores are non-finite: [nan nan nan nan nan nan nan nan nan nan nan]\n",
      "  warnings.warn(\n"
     ]
    }
   ],
   "source": [
    "param_grid_nb = {\n",
    "    'alpha': [0.01, 0.1, 0.5, 1.0, 10.0, 0.2, 0.05, 0.6, 0.001, 0.3, 0.02],\n",
    "}\n",
    "\n",
    "nbModel_grid = GridSearchCV(estimator=CategoricalNB(), param_grid=param_grid_nb, verbose=1, cv=5, n_jobs=-1)\n",
    "nbModel_grid.fit(X_train, y_train.values.ravel())\n",
    "print(nbModel_grid.best_params_)\n",
    "y_pred_CV = nbModel_grid.predict(X_test)"
   ]
  },
  {
   "cell_type": "markdown",
   "id": "3d5c2c52",
   "metadata": {},
   "source": [
    "# 6 Performance metrics "
   ]
  },
  {
   "cell_type": "markdown",
   "id": "1d15ec92",
   "metadata": {},
   "source": [
    "## 6.1 Percision, Recall, F1-Score"
   ]
  },
  {
   "cell_type": "markdown",
   "id": "374c3256",
   "metadata": {},
   "source": [
    "### 6.1.1 Categorical Naive bayes performance"
   ]
  },
  {
   "cell_type": "code",
   "execution_count": 43,
   "id": "a046fd18",
   "metadata": {},
   "outputs": [
    {
     "name": "stdout",
     "output_type": "stream",
     "text": [
      "              precision    recall  f1-score   support\n",
      "\n",
      "           0       0.97      0.93      0.95       152\n",
      "           1       0.50      0.67      0.57        15\n",
      "\n",
      "    accuracy                           0.91       167\n",
      "   macro avg       0.73      0.80      0.76       167\n",
      "weighted avg       0.92      0.91      0.92       167\n",
      "\n"
     ]
    }
   ],
   "source": [
    "# percision, Recall, F1-score\n",
    "print(classification_report(y_test,y_pred))\n"
   ]
  },
  {
   "cell_type": "markdown",
   "id": "8612689c",
   "metadata": {},
   "source": [
    "### 6.1.2 Multinomial Naive bayes performance"
   ]
  },
  {
   "cell_type": "code",
   "execution_count": 44,
   "id": "d437ead9",
   "metadata": {},
   "outputs": [
    {
     "name": "stdout",
     "output_type": "stream",
     "text": [
      "              precision    recall  f1-score   support\n",
      "\n",
      "           0       0.97      0.93      0.95       152\n",
      "           1       0.50      0.67      0.57        15\n",
      "\n",
      "    accuracy                           0.91       167\n",
      "   macro avg       0.73      0.80      0.76       167\n",
      "weighted avg       0.92      0.91      0.92       167\n",
      "\n"
     ]
    }
   ],
   "source": [
    "# percision, Recall, F1-score\n",
    "print(classification_report(y_test,y_pred_m))"
   ]
  },
  {
   "cell_type": "markdown",
   "id": "a91e88d2",
   "metadata": {},
   "source": [
    "### 6.1.3 Naive bayes + Grid search optimization performance "
   ]
  },
  {
   "cell_type": "code",
   "execution_count": 45,
   "id": "ec0a6af3",
   "metadata": {},
   "outputs": [
    {
     "name": "stdout",
     "output_type": "stream",
     "text": [
      "              precision    recall  f1-score   support\n",
      "\n",
      "           0       0.97      0.93      0.95       152\n",
      "           1       0.50      0.67      0.57        15\n",
      "\n",
      "    accuracy                           0.91       167\n",
      "   macro avg       0.73      0.80      0.76       167\n",
      "weighted avg       0.92      0.91      0.92       167\n",
      "\n"
     ]
    }
   ],
   "source": [
    "# percision, Recall, F1-score\n",
    "print(classification_report(y_test,y_pred_CV))"
   ]
  },
  {
   "cell_type": "markdown",
   "id": "9d7f3480",
   "metadata": {},
   "source": [
    "## 6.2 ROC/AUC curves "
   ]
  },
  {
   "cell_type": "code",
   "execution_count": 46,
   "id": "25c195b4",
   "metadata": {},
   "outputs": [
    {
     "data": {
      "text/plain": [
       "<sklearn.metrics._plot.roc_curve.RocCurveDisplay at 0x11ff9998fa0>"
      ]
     },
     "execution_count": 46,
     "metadata": {},
     "output_type": "execute_result"
    },
    {
     "data": {
      "image/png": "[encoded data removed]",
      "text/plain": [
       "<Figure size 432x288 with 1 Axes>"
      ]
     },
     "metadata": {
      "needs_background": "light"
     },
     "output_type": "display_data"
    }
   ],
   "source": [
    "plot_roc_curve(clf,X_test,y_test) # Hyper-parameters tuning manually "
   ]
  },
  {
   "cell_type": "code",
   "execution_count": 47,
   "id": "a49206b0",
   "metadata": {},
   "outputs": [
    {
     "data": {
      "text/plain": [
       "<sklearn.metrics._plot.roc_curve.RocCurveDisplay at 0x11ff9b08af0>"
      ]
     },
     "execution_count": 47,
     "metadata": {},
     "output_type": "execute_result"
    },
    {
     "data": {
      "image/png": "[encoded data removed]",
      "text/plain": [
       "<Figure size 432x288 with 1 Axes>"
      ]
     },
     "metadata": {
      "needs_background": "light"
     },
     "output_type": "display_data"
    }
   ],
   "source": [
    "plot_roc_curve(nbModel_grid,X_test,y_test) # Hyper-parameters tuning using GridsearchCV "
   ]
  },
  {
   "cell_type": "code",
   "execution_count": null,
   "id": "65bbb46b",
   "metadata": {},
   "outputs": [],
   "source": []
  }
 ],
 "metadata": {
  "kernelspec": {
   "display_name": "Python 3",
   "language": "python",
   "name": "python3"
  },
  "language_info": {
   "codemirror_mode": {
    "name": "ipython",
    "version": 3
   },
   "file_extension": ".py",
   "mimetype": "text/x-python",
   "name": "python",
   "nbconvert_exporter": "python",
   "pygments_lexer": "ipython3",
   "version": "3.8.8"
  }
 },
 "nbformat": 4,
 "nbformat_minor": 5
}
