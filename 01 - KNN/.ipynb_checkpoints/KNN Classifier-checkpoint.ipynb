{
 "cells": [
  {
   "cell_type": "markdown",
   "id": "8ac06ef4",
   "metadata": {},
   "source": [
    "# KNN "
   ]
  },
  {
   "cell_type": "markdown",
   "id": "3796c80b",
   "metadata": {},
   "source": [
    "# 1. Importing libraries"
   ]
  },
  {
   "cell_type": "code",
   "execution_count": 1,
   "id": "9dc133db",
   "metadata": {},
   "outputs": [],
   "source": [
    "import numpy as np\n",
    "import pandas as pd\n",
    "import matplotlib.pyplot as plt\n",
    "from sklearn.model_selection import train_test_split,GridSearchCV\n",
    "from sklearn.preprocessing import StandardScaler\n",
    "from sklearn.neighbors import KNeighborsClassifier\n",
    "from sklearn.pipeline import Pipeline\n",
    "from sklearn.metrics import classification_report,plot_precision_recall_curve,plot_roc_curve,plot_confusion_matrix,confusion_matrix,accuracy_score,roc_curve, auc\n",
    "\n"
   ]
  },
  {
   "cell_type": "markdown",
   "id": "b01a0540",
   "metadata": {},
   "source": [
    "# 2. Pre-processing of Data"
   ]
  },
  {
   "cell_type": "markdown",
   "id": "d285f685",
   "metadata": {},
   "source": [
    "## 2.1 Loading data "
   ]
  },
  {
   "cell_type": "code",
   "execution_count": 2,
   "id": "7134f185",
   "metadata": {},
   "outputs": [],
   "source": [
    "# global Variables\n",
    "random_state = 3 # random_state variable is chosen to be 3 for all algorithms to ensure fair comparison"
   ]
  },
  {
   "cell_type": "code",
   "execution_count": 3,
   "id": "32feccbf",
   "metadata": {
    "scrolled": true
   },
   "outputs": [
    {
     "data": {
      "text/html": [
       "<div>\n",
       "<style scoped>\n",
       "    .dataframe tbody tr th:only-of-type {\n",
       "        vertical-align: middle;\n",
       "    }\n",
       "\n",
       "    .dataframe tbody tr th {\n",
       "        vertical-align: top;\n",
       "    }\n",
       "\n",
       "    .dataframe thead th {\n",
       "        text-align: right;\n",
       "    }\n",
       "</style>\n",
       "<table border=\"1\" class=\"dataframe\">\n",
       "  <thead>\n",
       "    <tr style=\"text-align: right;\">\n",
       "      <th></th>\n",
       "      <th>location</th>\n",
       "      <th>country</th>\n",
       "      <th>gender</th>\n",
       "      <th>age</th>\n",
       "      <th>vis_wuhan</th>\n",
       "      <th>from_wuhan</th>\n",
       "      <th>symptom1</th>\n",
       "      <th>symptom2</th>\n",
       "      <th>symptom3</th>\n",
       "      <th>symptom4</th>\n",
       "      <th>symptom5</th>\n",
       "      <th>symptom6</th>\n",
       "      <th>diff_sym_hos</th>\n",
       "      <th>result</th>\n",
       "    </tr>\n",
       "  </thead>\n",
       "  <tbody>\n",
       "    <tr>\n",
       "      <th>0</th>\n",
       "      <td>104</td>\n",
       "      <td>8</td>\n",
       "      <td>1</td>\n",
       "      <td>66.0</td>\n",
       "      <td>1</td>\n",
       "      <td>0</td>\n",
       "      <td>14</td>\n",
       "      <td>31</td>\n",
       "      <td>19</td>\n",
       "      <td>12</td>\n",
       "      <td>3</td>\n",
       "      <td>1</td>\n",
       "      <td>8</td>\n",
       "      <td>1</td>\n",
       "    </tr>\n",
       "    <tr>\n",
       "      <th>1</th>\n",
       "      <td>101</td>\n",
       "      <td>8</td>\n",
       "      <td>0</td>\n",
       "      <td>56.0</td>\n",
       "      <td>0</td>\n",
       "      <td>1</td>\n",
       "      <td>14</td>\n",
       "      <td>31</td>\n",
       "      <td>19</td>\n",
       "      <td>12</td>\n",
       "      <td>3</td>\n",
       "      <td>1</td>\n",
       "      <td>0</td>\n",
       "      <td>0</td>\n",
       "    </tr>\n",
       "    <tr>\n",
       "      <th>2</th>\n",
       "      <td>137</td>\n",
       "      <td>8</td>\n",
       "      <td>1</td>\n",
       "      <td>46.0</td>\n",
       "      <td>0</td>\n",
       "      <td>1</td>\n",
       "      <td>14</td>\n",
       "      <td>31</td>\n",
       "      <td>19</td>\n",
       "      <td>12</td>\n",
       "      <td>3</td>\n",
       "      <td>1</td>\n",
       "      <td>13</td>\n",
       "      <td>0</td>\n",
       "    </tr>\n",
       "    <tr>\n",
       "      <th>3</th>\n",
       "      <td>116</td>\n",
       "      <td>8</td>\n",
       "      <td>0</td>\n",
       "      <td>60.0</td>\n",
       "      <td>1</td>\n",
       "      <td>0</td>\n",
       "      <td>14</td>\n",
       "      <td>31</td>\n",
       "      <td>19</td>\n",
       "      <td>12</td>\n",
       "      <td>3</td>\n",
       "      <td>1</td>\n",
       "      <td>0</td>\n",
       "      <td>0</td>\n",
       "    </tr>\n",
       "    <tr>\n",
       "      <th>4</th>\n",
       "      <td>116</td>\n",
       "      <td>8</td>\n",
       "      <td>1</td>\n",
       "      <td>58.0</td>\n",
       "      <td>0</td>\n",
       "      <td>0</td>\n",
       "      <td>14</td>\n",
       "      <td>31</td>\n",
       "      <td>19</td>\n",
       "      <td>12</td>\n",
       "      <td>3</td>\n",
       "      <td>1</td>\n",
       "      <td>0</td>\n",
       "      <td>0</td>\n",
       "    </tr>\n",
       "  </tbody>\n",
       "</table>\n",
       "</div>"
      ],
      "text/plain": [
       "   location  country  gender   age  vis_wuhan  from_wuhan  symptom1  symptom2  \\\n",
       "0       104        8       1  66.0          1           0        14        31   \n",
       "1       101        8       0  56.0          0           1        14        31   \n",
       "2       137        8       1  46.0          0           1        14        31   \n",
       "3       116        8       0  60.0          1           0        14        31   \n",
       "4       116        8       1  58.0          0           0        14        31   \n",
       "\n",
       "   symptom3  symptom4  symptom5  symptom6  diff_sym_hos  result  \n",
       "0        19        12         3         1             8       1  \n",
       "1        19        12         3         1             0       0  \n",
       "2        19        12         3         1            13       0  \n",
       "3        19        12         3         1             0       0  \n",
       "4        19        12         3         1             0       0  "
      ]
     },
     "execution_count": 3,
     "metadata": {},
     "output_type": "execute_result"
    }
   ],
   "source": [
    "df = pd.read_csv('data.csv',index_col=0)\n",
    "df.head()"
   ]
  },
  {
   "cell_type": "markdown",
   "id": "58b7e650",
   "metadata": {},
   "source": [
    "## 2.2 Splitting of data "
   ]
  },
  {
   "cell_type": "code",
   "execution_count": 4,
   "id": "e463c803",
   "metadata": {},
   "outputs": [],
   "source": [
    "#splitting the data into features and labels\n",
    "X = df.drop(['result'],axis=1)\n",
    "y = df['result']\n",
    "\n",
    "\n",
    "\n",
    "# Split into training and testing\n",
    "X_cv, X_test, y_cv, y_test = train_test_split(X, y, test_size = 0.2, random_state = 55)\n",
    "\n",
    "# Split the training into training and validation \n",
    "X_cv, X_validate, y_cv, y_validate = train_test_split(X_cv, y_cv, test_size = 0.1, random_state = 55) \n",
    "\n",
    "X_cv = X_cv.reset_index(drop=True) \n",
    "X_validate = X_validate.reset_index(drop=True) \n",
    "X_test = X_test.reset_index(drop=True) \n",
    "y_cv = y_cv.reset_index(drop=True) \n",
    "y_validate = y_validate.reset_index(drop=True) \n",
    "y_test = y_test.reset_index(drop=True) "
   ]
  },
  {
   "cell_type": "markdown",
   "id": "098913a6",
   "metadata": {},
   "source": [
    "## 2.3 Pipelining "
   ]
  },
  {
   "cell_type": "code",
   "execution_count": 5,
   "id": "b0846e3e",
   "metadata": {},
   "outputs": [],
   "source": [
    "# pipelining both standardScalar and KNN model\n",
    "scaler = StandardScaler()\n",
    "knn = KNeighborsClassifier()\n",
    "operations = [('scaler',scaler),('knn',knn)]\n",
    "pipe = Pipeline(operations)"
   ]
  },
  {
   "cell_type": "markdown",
   "id": "68f7e053",
   "metadata": {},
   "source": [
    "## 2.4 Removing symptom6 column from our data "
   ]
  },
  {
   "cell_type": "code",
   "execution_count": 6,
   "id": "b6754402",
   "metadata": {},
   "outputs": [
    {
     "name": "stdout",
     "output_type": "stream",
     "text": [
      "Number of rows: 863\n",
      "Number of cases with first value: 862\n",
      "Number of cases with Second value: 1\n"
     ]
    }
   ],
   "source": [
    "# symptom6 attribute is has almost one identical value \n",
    "\n",
    "print(f\"Number of rows: {len(df['symptom6'])}\")\n",
    "counter_1 = 0\n",
    "counter_2 = 0\n",
    "for i in range(len(df['symptom6'])):\n",
    "  if df['symptom6'][i] == 1:\n",
    "    counter_1 = counter_1 + 1\n",
    "  else:\n",
    "    counter_2 = counter_2 + 1\n",
    "print(f\"Number of cases with first value: {counter_1}\")\n",
    "print(f\"Number of cases with Second value: {counter_2}\")\n",
    "df.drop(axis = 1, labels = 'symptom6', inplace = True)\n"
   ]
  },
  {
   "cell_type": "markdown",
   "id": "30d2d780",
   "metadata": {},
   "source": [
    "# 3. Finding optimal K using GridSearchCV"
   ]
  },
  {
   "cell_type": "markdown",
   "id": "b9665fd1",
   "metadata": {},
   "source": [
    "## 3.1 GridSearchCV"
   ]
  },
  {
   "cell_type": "code",
   "execution_count": 7,
   "id": "3d211f0e",
   "metadata": {},
   "outputs": [
    {
     "data": {
      "text/plain": [
       "GridSearchCV(cv=5,\n",
       "             estimator=Pipeline(steps=[('scaler', StandardScaler()),\n",
       "                                       ('knn', KNeighborsClassifier())]),\n",
       "             param_grid={'knn__n_neighbors': [1, 2, 3, 4, 5, 6, 7, 8, 9, 10, 11,\n",
       "                                              12, 13, 14, 15, 16, 17, 18, 19,\n",
       "                                              20, 21, 22, 23, 24, 25, 26, 27,\n",
       "                                              28, 29]},\n",
       "             scoring='accuracy')"
      ]
     },
     "execution_count": 7,
     "metadata": {},
     "output_type": "execute_result"
    }
   ],
   "source": [
    "k_values = list(range(1,30))\n",
    "param_grid = {'knn__n_neighbors': k_values}\n",
    "full_cv_classifier = GridSearchCV(pipe,param_grid,cv=5,scoring='accuracy')\n",
    "full_cv_classifier.fit(X_cv,y_cv)"
   ]
  },
  {
   "cell_type": "markdown",
   "id": "6f394a24",
   "metadata": {},
   "source": [
    "## 3.2 Parameters of the classifier"
   ]
  },
  {
   "cell_type": "code",
   "execution_count": 8,
   "id": "68bff184",
   "metadata": {
    "scrolled": true
   },
   "outputs": [
    {
     "data": {
      "text/plain": [
       "{'memory': None,\n",
       " 'steps': [('scaler', StandardScaler()),\n",
       "  ('knn', KNeighborsClassifier(n_neighbors=1))],\n",
       " 'verbose': False,\n",
       " 'scaler': StandardScaler(),\n",
       " 'knn': KNeighborsClassifier(n_neighbors=1),\n",
       " 'scaler__copy': True,\n",
       " 'scaler__with_mean': True,\n",
       " 'scaler__with_std': True,\n",
       " 'knn__algorithm': 'auto',\n",
       " 'knn__leaf_size': 30,\n",
       " 'knn__metric': 'minkowski',\n",
       " 'knn__metric_params': None,\n",
       " 'knn__n_jobs': None,\n",
       " 'knn__n_neighbors': 1,\n",
       " 'knn__p': 2,\n",
       " 'knn__weights': 'uniform'}"
      ]
     },
     "execution_count": 8,
     "metadata": {},
     "output_type": "execute_result"
    }
   ],
   "source": [
    "# Find the best K regarding accuracy score\n",
    "full_cv_classifier.best_estimator_.get_params()"
   ]
  },
  {
   "cell_type": "markdown",
   "id": "8bb6eeb8",
   "metadata": {},
   "source": [
    "## 3.3 Mean test score results"
   ]
  },
  {
   "cell_type": "code",
   "execution_count": 9,
   "id": "e78e744c",
   "metadata": {},
   "outputs": [
    {
     "data": {
      "text/plain": [
       "array([0.91628387, 0.90823226, 0.91463226, 0.91145806, 0.91464516,\n",
       "       0.90501935, 0.90983226, 0.89856774, 0.90016774, 0.89534194,\n",
       "       0.89856774, 0.89534194, 0.89695484, 0.89374194, 0.89371613,\n",
       "       0.88729032, 0.89211613, 0.89372903, 0.89211613, 0.89052903,\n",
       "       0.89374194, 0.88406452, 0.88729032, 0.87923871, 0.88085161,\n",
       "       0.87923871, 0.87923871, 0.87923871, 0.87923871])"
      ]
     },
     "execution_count": 9,
     "metadata": {},
     "output_type": "execute_result"
    }
   ],
   "source": [
    "full_cv_classifier.cv_results_['mean_test_score']"
   ]
  },
  {
   "cell_type": "markdown",
   "id": "b08f1309",
   "metadata": {},
   "source": [
    "## 3.4 Accuracy vs K graph "
   ]
  },
  {
   "cell_type": "code",
   "execution_count": 10,
   "id": "6a50d99b",
   "metadata": {
    "scrolled": false
   },
   "outputs": [
    {
     "data": {
      "text/plain": [
       "Text(0, 0.5, 'Accuracy')"
      ]
     },
     "execution_count": 10,
     "metadata": {},
     "output_type": "execute_result"
    },
    {
     "data": {
      "image/png": "[encoded data removed]",
      "text/plain": [
       "<Figure size 432x288 with 1 Axes>"
      ]
     },
     "metadata": {
      "needs_background": "light"
     },
     "output_type": "display_data"
    }
   ],
   "source": [
    "scores = full_cv_classifier.cv_results_['mean_test_score']\n",
    "plt.plot(k_values,scores,'og-')\n",
    "plt.xlabel(\"K\")\n",
    "plt.ylabel(\"Accuracy\")\n"
   ]
  },
  {
   "cell_type": "markdown",
   "id": "ddf0604e",
   "metadata": {},
   "source": [
    "# 4. Testing the model"
   ]
  },
  {
   "cell_type": "markdown",
   "id": "a3ef8826",
   "metadata": {},
   "source": [
    "## 4.1 Predicitons of the classifer and confusion matrix "
   ]
  },
  {
   "cell_type": "code",
   "execution_count": 11,
   "id": "d7b9651f",
   "metadata": {
    "scrolled": false
   },
   "outputs": [
    {
     "data": {
      "text/plain": [
       "<sklearn.metrics._plot.confusion_matrix.ConfusionMatrixDisplay at 0x20306074d90>"
      ]
     },
     "execution_count": 11,
     "metadata": {},
     "output_type": "execute_result"
    },
    {
     "data": {
      "image/png": "[encoded data removed]",
      "text/plain": [
       "<Figure size 432x288 with 2 Axes>"
      ]
     },
     "metadata": {
      "needs_background": "light"
     },
     "output_type": "display_data"
    }
   ],
   "source": [
    "pred = full_cv_classifier.predict(X_test)\n",
    "plot_confusion_matrix(full_cv_classifier,X_test,y_test)"
   ]
  },
  {
   "cell_type": "code",
   "execution_count": 12,
   "id": "b3ba446c",
   "metadata": {},
   "outputs": [
    {
     "data": {
      "text/plain": [
       "0.953757225433526"
      ]
     },
     "execution_count": 12,
     "metadata": {},
     "output_type": "execute_result"
    }
   ],
   "source": [
    "accuracy_score(y_test,pred)"
   ]
  },
  {
   "cell_type": "markdown",
   "id": "917eecf0",
   "metadata": {},
   "source": [
    "# 5. Model Performance"
   ]
  },
  {
   "cell_type": "markdown",
   "id": "1c0470ae",
   "metadata": {},
   "source": [
    "## 5.1 Precision, Recall, F1-score"
   ]
  },
  {
   "cell_type": "code",
   "execution_count": 13,
   "id": "8e5f9039",
   "metadata": {
    "scrolled": false
   },
   "outputs": [
    {
     "name": "stdout",
     "output_type": "stream",
     "text": [
      "              precision    recall  f1-score   support\n",
      "\n",
      "           0       0.97      0.98      0.97       150\n",
      "           1       0.86      0.78      0.82        23\n",
      "\n",
      "    accuracy                           0.95       173\n",
      "   macro avg       0.91      0.88      0.90       173\n",
      "weighted avg       0.95      0.95      0.95       173\n",
      "\n"
     ]
    }
   ],
   "source": [
    "print(classification_report(y_test,pred))"
   ]
  },
  {
   "cell_type": "markdown",
   "id": "8c94e6f4",
   "metadata": {},
   "source": [
    "## 5.1 ROC_ AUC Cruves "
   ]
  },
  {
   "cell_type": "code",
   "execution_count": 14,
   "id": "a181c7fc",
   "metadata": {},
   "outputs": [
    {
     "data": {
      "text/plain": [
       "<sklearn.metrics._plot.roc_curve.RocCurveDisplay at 0x203068acb50>"
      ]
     },
     "execution_count": 14,
     "metadata": {},
     "output_type": "execute_result"
    },
    {
     "data": {
      "image/png": "[encoded data removed]",
      "text/plain": [
       "<Figure size 432x288 with 1 Axes>"
      ]
     },
     "metadata": {
      "needs_background": "light"
     },
     "output_type": "display_data"
    }
   ],
   "source": [
    "plot_roc_curve(full_cv_classifier,X_test,y_test)"
   ]
  },
  {
   "cell_type": "code",
   "execution_count": null,
   "id": "cb83507b",
   "metadata": {},
   "outputs": [],
   "source": []
  },
  {
   "cell_type": "code",
   "execution_count": null,
   "id": "f7527300",
   "metadata": {},
   "outputs": [],
   "source": []
  }
 ],
 "metadata": {
  "kernelspec": {
   "display_name": "Python 3",
   "language": "python",
   "name": "python3"
  },
  "language_info": {
   "codemirror_mode": {
    "name": "ipython",
    "version": 3
   },
   "file_extension": ".py",
   "mimetype": "text/x-python",
   "name": "python",
   "nbconvert_exporter": "python",
   "pygments_lexer": "ipython3",
   "version": "3.8.8"
  }
 },
 "nbformat": 4,
 "nbformat_minor": 5
}
